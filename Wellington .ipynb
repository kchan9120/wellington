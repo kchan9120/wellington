{
 "cells": [
  {
   "cell_type": "code",
   "execution_count": 634,
   "metadata": {
    "collapsed": true
   },
   "outputs": [],
   "source": [
    "import pandas as pd\n",
    "import numpy as np\n",
    "import statsmodels.formula.api as smf"
   ]
  },
  {
   "cell_type": "code",
   "execution_count": 635,
   "metadata": {
    "collapsed": true
   },
   "outputs": [],
   "source": [
    "xlsx = pd.ExcelFile(\"DataSet.xlsx\")\n",
    "df = pd.read_excel(xlsx)\n",
    "\n"
   ]
  },
  {
   "cell_type": "code",
   "execution_count": 636,
   "metadata": {
    "collapsed": true
   },
   "outputs": [],
   "source": [
    "#Monthly return sp500\n",
    "df['sp500ret']= df['SP500Index'].pct_change()"
   ]
  },
  {
   "cell_type": "code",
   "execution_count": 637,
   "metadata": {
    "collapsed": true
   },
   "outputs": [],
   "source": [
    "#Monthly return of bond index\n",
    "df['bondret'] = df['BarclaysUSAggTreasury Index'].pct_change()\n"
   ]
  },
  {
   "cell_type": "code",
   "execution_count": 638,
   "metadata": {},
   "outputs": [
    {
     "data": {
      "text/plain": [
       "0         NaN\n",
       "1    0.008450\n",
       "2    0.015780\n",
       "3   -0.018664\n",
       "4    0.069750\n",
       "Name: benchmarkret, dtype: float64"
      ]
     },
     "execution_count": 638,
     "metadata": {},
     "output_type": "execute_result"
    }
   ],
   "source": [
    "#Benchmark Portfolio, shows first 5 monthly returns\n",
    "df['benchmarkret'] = .6*df['sp500ret'] + .4*df['bondret']\n",
    "df['benchmarkret'].head()\n"
   ]
  },
  {
   "cell_type": "code",
   "execution_count": 639,
   "metadata": {
    "collapsed": true
   },
   "outputs": [],
   "source": [
    "#adding 1 to returns for caluclation purposes\n",
    "df['1+sp500ret']= 1+ df['sp500ret']\n",
    "df['1+bondret']=1+ df['bondret']\n",
    "df['1+benchmarkret'] = 1 + df['benchmarkret']\n"
   ]
  },
  {
   "cell_type": "code",
   "execution_count": 640,
   "metadata": {
    "collapsed": true
   },
   "outputs": [],
   "source": [
    "#Total Compound Cumulative Returns \n",
    "#sp500CumRet = (df[\"SP500Index\"][len(df.index)-1] / df['SP500Index'][0]) -1\n",
    "#bondCumRet = (df['BarclaysUSAggTreasury Index'][len(df.index)-1] / df['BarclaysUSAggTreasury Index'][0])\n",
    "df['sp500CumRet']= df['1+sp500ret'].cumprod()-1\n",
    "df['bondCumRet'] = df['1+bondret'].cumprod()-1\n",
    "df['benchmarkCumRet'] = df['1+benchmarkret'].cumprod()-1\n",
    "\n"
   ]
  },
  {
   "cell_type": "code",
   "execution_count": 644,
   "metadata": {},
   "outputs": [
    {
     "name": "stdout",
     "output_type": "stream",
     "text": [
      "0.0931989940909 0.0492857949103 0.0797343968425\n"
     ]
    }
   ],
   "source": [
    "#Annualized Returns, \n",
    "sp500AnnRet = (df[\"sp500CumRet\"][len(df.index)-1])**(1/27.)-1\n",
    "bondAnnRet = (df[\"bondCumRet\"][len(df.index)-1])**(1/27.)-1\n",
    "benchmarkAnnRet = (df[\"benchmarkCumRet\"][len(df.index)-1])**(1/27.)-1\n",
    "print sp500AnnRet, bondAnnRet, benchmarkAnnRet"
   ]
  },
  {
   "cell_type": "code",
   "execution_count": 645,
   "metadata": {},
   "outputs": [
    {
     "name": "stdout",
     "output_type": "stream",
     "text": [
      "0.14367923596 0.044111172661 0.086196221143\n"
     ]
    }
   ],
   "source": [
    "#Annual Standard Deviation\n",
    "sp500SD = np.std(df['sp500ret'])*np.sqrt(12)\n",
    "bondSD = np.std(df['bondret'])*np.sqrt(12)\n",
    "benchmarkSD = np.std(df['benchmarkret'])*np.sqrt(12)\n",
    "print sp500SD, bondSD, benchmarkSD"
   ]
  },
  {
   "cell_type": "code",
   "execution_count": 646,
   "metadata": {},
   "outputs": [
    {
     "data": {
      "text/plain": [
       "0.007419355012572959"
      ]
     },
     "execution_count": 646,
     "metadata": {},
     "output_type": "execute_result"
    }
   ],
   "source": [
    "#annual return of risk free for sharpe ratio calculation\n",
    "cumRetRF = (df['3m Tbill Index'][len(df.index)-1] /df['3m Tbill Index'][0]) - 1\n",
    "rfAnnRet = cumRetRF**(1/27.) - 1\n",
    "rfAnnRet"
   ]
  },
  {
   "cell_type": "code",
   "execution_count": 647,
   "metadata": {
    "scrolled": true
   },
   "outputs": [
    {
     "name": "stdout",
     "output_type": "stream",
     "text": [
      "0.597021820899 0.949111922721 0.838958377421\n"
     ]
    }
   ],
   "source": [
    "#sharpe ratio\n",
    "sp500SharpeRatio = (sp500AnnRet - rfAnnRet)/ sp500SD\n",
    "bondSharpeRatio = (bondAnnRet - rfAnnRet)/ bondSD\n",
    "benchmarkSharpeRatio = (benchmarkAnnRet - rfAnnRet )/ benchmarkSD\n",
    "print sp500SharpeRatio, bondSharpeRatio, benchmarkSharpeRatio"
   ]
  },
  {
   "cell_type": "code",
   "execution_count": 648,
   "metadata": {},
   "outputs": [
    {
     "data": {
      "text/html": [
       "<div>\n",
       "<style>\n",
       "    .dataframe thead tr:only-child th {\n",
       "        text-align: right;\n",
       "    }\n",
       "\n",
       "    .dataframe thead th {\n",
       "        text-align: left;\n",
       "    }\n",
       "\n",
       "    .dataframe tbody tr th {\n",
       "        vertical-align: top;\n",
       "    }\n",
       "</style>\n",
       "<table border=\"1\" class=\"dataframe\">\n",
       "  <thead>\n",
       "    <tr style=\"text-align: right;\">\n",
       "      <th></th>\n",
       "      <th>Ann Return</th>\n",
       "      <th>Ann Standard Dev</th>\n",
       "      <th>Cum Return</th>\n",
       "      <th>Sharpe Ratio</th>\n",
       "    </tr>\n",
       "  </thead>\n",
       "  <tbody>\n",
       "    <tr>\n",
       "      <th>sp500</th>\n",
       "      <td>0.093199</td>\n",
       "      <td>0.143679</td>\n",
       "      <td>11.088659</td>\n",
       "      <td>0.597022</td>\n",
       "    </tr>\n",
       "    <tr>\n",
       "      <th>barclay</th>\n",
       "      <td>0.049286</td>\n",
       "      <td>0.044111</td>\n",
       "      <td>3.665493</td>\n",
       "      <td>0.949112</td>\n",
       "    </tr>\n",
       "    <tr>\n",
       "      <th>benchmark</th>\n",
       "      <td>0.079734</td>\n",
       "      <td>0.086196</td>\n",
       "      <td>7.935189</td>\n",
       "      <td>0.838958</td>\n",
       "    </tr>\n",
       "  </tbody>\n",
       "</table>\n",
       "</div>"
      ],
      "text/plain": [
       "           Ann Return  Ann Standard Dev  Cum Return  Sharpe Ratio\n",
       "sp500        0.093199          0.143679   11.088659      0.597022\n",
       "barclay      0.049286          0.044111    3.665493      0.949112\n",
       "benchmark    0.079734          0.086196    7.935189      0.838958"
      ]
     },
     "execution_count": 648,
     "metadata": {},
     "output_type": "execute_result"
    }
   ],
   "source": [
    "#summary chart for question 2\n",
    "sp500CumRet = df[\"sp500CumRet\"][len(df.index)-1]\n",
    "bondCumRet = df[\"bondCumRet\"][len(df.index)-1]\n",
    "benchmarkCumRet = df[\"benchmarkCumRet\"][len(df.index)-1]\n",
    "dictSummary = {'Cum Return' : pd.Series([sp500CumRet, bondCumRet, benchmarkCumRet]),\n",
    "               'Ann Return' : pd.Series([sp500AnnRet, bondAnnRet, benchmarkAnnRet]),\n",
    "               'Ann Standard Dev' : pd.Series([sp500SD, bondSD, benchmarkSD]),\n",
    "               'Sharpe Ratio' : pd.Series([sp500SharpeRatio, bondSharpeRatio, benchmarkSharpeRatio])}\n",
    "                    \n",
    "\n",
    "summary = pd.DataFrame(dictSummary)\n",
    "summary1 = summary.set_index([['sp500','barclay','benchmark']])\n",
    "summary1"
   ]
  },
  {
   "cell_type": "code",
   "execution_count": 649,
   "metadata": {
    "collapsed": true
   },
   "outputs": [],
   "source": [
    "#making new dataframe for questions 3+\n",
    "df2 = df.iloc[:,0:10]"
   ]
  },
  {
   "cell_type": "code",
   "execution_count": 650,
   "metadata": {
    "collapsed": true
   },
   "outputs": [],
   "source": [
    "#Finding returns of the factor\n",
    "for i in range(0,4):\n",
    "    df2['factor{}ret'.format(i+1)] = df2['Factor{}'.format(i+1)].pct_change()\n"
   ]
  },
  {
   "cell_type": "code",
   "execution_count": 653,
   "metadata": {
    "collapsed": true
   },
   "outputs": [],
   "source": [
    "#Lagging returns of the factors for prediction purposes, shift factor returns one month down.\n",
    "for i in range(0,4):\n",
    "    df2['laggedf{}ret'.format(i+1)] = df2['factor{}ret'.format(i+1)].shift(1)"
   ]
  },
  {
   "cell_type": "code",
   "execution_count": 654,
   "metadata": {},
   "outputs": [
    {
     "name": "stdout",
     "output_type": "stream",
     "text": [
      "                            OLS Regression Results                            \n",
      "==============================================================================\n",
      "Dep. Variable:               sp500ret   R-squared:                       0.093\n",
      "Model:                            OLS   Adj. R-squared:                  0.085\n",
      "Method:                 Least Squares   F-statistic:                     12.19\n",
      "Date:                Sun, 22 Oct 2017   Prob (F-statistic):           0.000675\n",
      "Time:                        11:20:34   Log-Likelihood:                 226.61\n",
      "No. Observations:                 121   AIC:                            -449.2\n",
      "Df Residuals:                     119   BIC:                            -443.6\n",
      "Df Model:                           1                                         \n",
      "Covariance Type:            nonrobust                                         \n",
      "===============================================================================\n",
      "                  coef    std err          t      P>|t|      [0.025      0.975]\n",
      "-------------------------------------------------------------------------------\n",
      "Intercept       0.0119      0.004      3.366      0.001       0.005       0.019\n",
      "laggedf3ret     0.3199      0.092      3.492      0.001       0.138       0.501\n",
      "==============================================================================\n",
      "Omnibus:                       11.735   Durbin-Watson:                   2.196\n",
      "Prob(Omnibus):                  0.003   Jarque-Bera (JB):               14.966\n",
      "Skew:                          -0.548   Prob(JB):                     0.000563\n",
      "Kurtosis:                       4.329   Cond. No.                         26.9\n",
      "==============================================================================\n",
      "\n",
      "Warnings:\n",
      "[1] Standard Errors assume that the covariance matrix of the errors is correctly specified.\n"
     ]
    }
   ],
   "source": [
    "#10 year data regression\n",
    "\n",
    "regress1 = smf.ols(formula='sp500ret ~ laggedf1ret', data=df2[2:123]).fit()\n",
    "regress2 = smf.ols(formula='sp500ret ~ laggedf2ret', data=df2[2:123]).fit()\n",
    "regress3 = smf.ols(formula='sp500ret ~ laggedf3ret', data=df2[2:123]).fit()\n",
    "regress4 = smf.ols(formula='sp500ret ~ laggedf4ret', data=df2[2:123]).fit()\n",
    "print regress3.summary()"
   ]
  },
  {
   "cell_type": "code",
   "execution_count": 655,
   "metadata": {
    "collapsed": true
   },
   "outputs": [],
   "source": [
    "#Calculating regression based off of last 3 years.(factor beta)\n",
    "for i in range(0,4):\n",
    "    df2['beta{}'.format(i+1)] = df2['sp500ret'].rolling(window=36).cov(other=df2['laggedf{}ret'.format(i+1)])/ df2['laggedf{}ret'.format(i+1)].rolling(window=36,center=False).var()\n"
   ]
  },
  {
   "cell_type": "code",
   "execution_count": 656,
   "metadata": {
    "collapsed": true
   },
   "outputs": [],
   "source": [
    "#average of sp500 returns from past 3 years\n",
    "df2['sp500RollingMean'] = df2['sp500ret'].rolling(window=36).mean()"
   ]
  },
  {
   "cell_type": "code",
   "execution_count": 657,
   "metadata": {
    "collapsed": true
   },
   "outputs": [],
   "source": [
    "#average of lagged return from past 3 years\n",
    "for i in range(0,4):\n",
    "    df2['laggedf{}RollingMean'.format(i+1)] = df2['laggedf{}ret'.format(i+1)].rolling(window=36).mean()\n"
   ]
  },
  {
   "cell_type": "code",
   "execution_count": 658,
   "metadata": {
    "collapsed": true
   },
   "outputs": [],
   "source": [
    "# finding intercept of linear regression\n",
    "for i in range(0,4):\n",
    "    df2['f{}intercept'.format(i+1)] = df2['sp500RollingMean'] - df2['beta{}'.format(i+1)]*df2['laggedf{}RollingMean'.format(i+1)]"
   ]
  },
  {
   "cell_type": "code",
   "execution_count": 659,
   "metadata": {
    "collapsed": true
   },
   "outputs": [],
   "source": [
    "#Changing values to none because used 10 years worth of regression data to state factor 3 was good.\n",
    "df2.iloc[:123,18:31] = None "
   ]
  },
  {
   "cell_type": "code",
   "execution_count": 660,
   "metadata": {
    "collapsed": true
   },
   "outputs": [],
   "source": [
    "#Predicted Return( y=mx+b) \n",
    "for i in range(0,4):\n",
    "    df2['f{}PredictRet'.format(i+1)] = df2['f{}intercept'.format(i+1)] + df2['beta{}'.format(i+1)]*df2['laggedf{}ret'.format(i+1)]"
   ]
  },
  {
   "cell_type": "code",
   "execution_count": 661,
   "metadata": {
    "collapsed": true
   },
   "outputs": [],
   "source": [
    "#error squared, difference between predicted return and actual return\n",
    "for i in range(0,4):\n",
    "    df2['f{}errorSquare'.format(i+1)] = (df2['f{}PredictRet'.format(i+1)]- df2['sp500ret'])**2"
   ]
  },
  {
   "cell_type": "code",
   "execution_count": 662,
   "metadata": {},
   "outputs": [
    {
     "name": "stdout",
     "output_type": "stream",
     "text": [
      "0.00165172017089 0.00173324748022 0.00151698914005 0.00161813324925\n"
     ]
    }
   ],
   "source": [
    "#Mean Squared Error, lowest MSE is factor chosen.\n",
    "# using n-k-1 for denominator of MSE\n",
    "\n",
    "df2['n-k-1'] = df2.index - 3\n",
    "\n",
    "print df2['f1errorSquare'].mean(), df2['f2errorSquare'].mean(), df2['f3errorSquare'].mean(), df2['f4errorSquare'].mean()\n",
    "\n",
    "#Factor 3 is best."
   ]
  },
  {
   "cell_type": "code",
   "execution_count": 664,
   "metadata": {},
   "outputs": [
    {
     "name": "stderr",
     "output_type": "stream",
     "text": [
      "C:\\ProgramData\\Anaconda2\\lib\\site-packages\\ipykernel_launcher.py:18: SettingWithCopyWarning: \n",
      "A value is trying to be set on a copy of a slice from a DataFrame\n",
      "\n",
      "See the caveats in the documentation: http://pandas.pydata.org/pandas-docs/stable/indexing.html#indexing-view-versus-copy\n",
      "C:\\ProgramData\\Anaconda2\\lib\\site-packages\\ipykernel_launcher.py:13: SettingWithCopyWarning: \n",
      "A value is trying to be set on a copy of a slice from a DataFrame\n",
      "\n",
      "See the caveats in the documentation: http://pandas.pydata.org/pandas-docs/stable/indexing.html#indexing-view-versus-copy\n",
      "  del sys.path[0]\n",
      "C:\\ProgramData\\Anaconda2\\lib\\site-packages\\ipykernel_launcher.py:11: SettingWithCopyWarning: \n",
      "A value is trying to be set on a copy of a slice from a DataFrame\n",
      "\n",
      "See the caveats in the documentation: http://pandas.pydata.org/pandas-docs/stable/indexing.html#indexing-view-versus-copy\n",
      "  # This is added back by InteractiveShellApp.init_path()\n"
     ]
    }
   ],
   "source": [
    "#Rebalance formula\n",
    "\n",
    "df2['equityWeight']=.6\n",
    "\n",
    "\n",
    "for i in range(123,len(df.index)):\n",
    "    rebalanceFormula = 1.5 - (1/(1+np.exp(df2['f3PredictRet'][i])))\n",
    "\n",
    "    if df2['f3PredictRet'][i] >= 0:\n",
    "        if df2['equityWeight'][i-1]* rebalanceFormula >= .7:\n",
    "            df2['equityWeight'][i] = .7\n",
    "        else:\n",
    "            df2['equityWeight'][i] = df2['equityWeight'][i-1]* rebalanceFormula\n",
    "    else:\n",
    "        if df2['equityWeight'][i-1]* rebalanceFormula <= .5:\n",
    "            df2['equityWeight'][i] = .5\n",
    "        else:\n",
    "            df2['equityWeight'][i] = df2['equityWeight'][i-1]*rebalanceFormula\n"
   ]
  },
  {
   "cell_type": "code",
   "execution_count": 665,
   "metadata": {
    "collapsed": true
   },
   "outputs": [],
   "source": [
    "#calculating bondweight of portfolio\n",
    "df2['bondWeight'] = 1 - df2['equityWeight']\n"
   ]
  },
  {
   "cell_type": "code",
   "execution_count": 666,
   "metadata": {},
   "outputs": [
    {
     "name": "stderr",
     "output_type": "stream",
     "text": [
      "C:\\ProgramData\\Anaconda2\\lib\\site-packages\\ipykernel_launcher.py:2: SettingWithCopyWarning: \n",
      "A value is trying to be set on a copy of a slice from a DataFrame\n",
      "\n",
      "See the caveats in the documentation: http://pandas.pydata.org/pandas-docs/stable/indexing.html#indexing-view-versus-copy\n",
      "  \n",
      "C:\\ProgramData\\Anaconda2\\lib\\site-packages\\ipykernel_launcher.py:3: SettingWithCopyWarning: \n",
      "A value is trying to be set on a copy of a slice from a DataFrame\n",
      "\n",
      "See the caveats in the documentation: http://pandas.pydata.org/pandas-docs/stable/indexing.html#indexing-view-versus-copy\n",
      "  This is separate from the ipykernel package so we can avoid doing imports until\n"
     ]
    }
   ],
   "source": [
    "#Setting first couple of rows of equity/bond weights as None,  trading strategy didn't start yet\n",
    "df2['equityWeight'][:123] = None\n",
    "df2['bondWeight'][:123] = None\n"
   ]
  },
  {
   "cell_type": "code",
   "execution_count": 667,
   "metadata": {
    "collapsed": true
   },
   "outputs": [],
   "source": [
    "# portfolio return\n",
    "df2['portfolioRet'] = df2['bondWeight']*df2['bondret'] + df2['equityWeight']*df2['sp500ret']"
   ]
  },
  {
   "cell_type": "code",
   "execution_count": 668,
   "metadata": {
    "collapsed": true
   },
   "outputs": [],
   "source": [
    "#alpha\n",
    "df2['alpha'] = df2['portfolioRet'] - df['benchmarkret']\n"
   ]
  },
  {
   "cell_type": "code",
   "execution_count": null,
   "metadata": {
    "collapsed": true
   },
   "outputs": [],
   "source": []
  },
  {
   "cell_type": "code",
   "execution_count": 669,
   "metadata": {},
   "outputs": [
    {
     "data": {
      "text/plain": [
       "0.057202690852513394"
      ]
     },
     "execution_count": 669,
     "metadata": {},
     "output_type": "execute_result"
    }
   ],
   "source": [
    "#cumulative alpha\n",
    "cumAlpha = (1 + df2['alpha']).prod() - 1\n",
    "cumAlpha"
   ]
  },
  {
   "cell_type": "code",
   "execution_count": 670,
   "metadata": {},
   "outputs": [
    {
     "data": {
      "text/plain": [
       "0.0033265026007101017"
      ]
     },
     "execution_count": 670,
     "metadata": {},
     "output_type": "execute_result"
    }
   ],
   "source": [
    "#annualized alpha\n",
    "n = 201./12 # #of periods\n",
    "annualAlpha = (1+ cumAlpha)**(1/n) - 1\n",
    "annualAlpha\n"
   ]
  },
  {
   "cell_type": "code",
   "execution_count": 671,
   "metadata": {},
   "outputs": [
    {
     "data": {
      "text/plain": [
       "0.002328710364068098"
      ]
     },
     "execution_count": 671,
     "metadata": {},
     "output_type": "execute_result"
    }
   ],
   "source": [
    "#tracking error\n",
    "#df2['alpha'].std()#, also tracking error \n",
    "numMonths = 201\n",
    "trackingError = ((df2['alpha']**2).sum()/numMonths)**(1/2.)\n",
    "trackingError\n",
    "            "
   ]
  },
  {
   "cell_type": "code",
   "execution_count": 672,
   "metadata": {},
   "outputs": [
    {
     "data": {
      "text/plain": [
       "1.4284741683800164"
      ]
     },
     "execution_count": 672,
     "metadata": {},
     "output_type": "execute_result"
    }
   ],
   "source": [
    "#Information Ratio\n",
    "infoRatio = annualAlpha/ trackingError\n",
    "infoRatio"
   ]
  },
  {
   "cell_type": "code",
   "execution_count": 673,
   "metadata": {
    "collapsed": true
   },
   "outputs": [],
   "source": [
    "#random initial portfolio value\n",
    "df2['portfolioValue'] = 1000000"
   ]
  },
  {
   "cell_type": "code",
   "execution_count": 674,
   "metadata": {},
   "outputs": [
    {
     "name": "stderr",
     "output_type": "stream",
     "text": [
      "C:\\ProgramData\\Anaconda2\\lib\\site-packages\\ipykernel_launcher.py:2: SettingWithCopyWarning: \n",
      "A value is trying to be set on a copy of a slice from a DataFrame\n",
      "\n",
      "See the caveats in the documentation: http://pandas.pydata.org/pandas-docs/stable/indexing.html#indexing-view-versus-copy\n",
      "  \n"
     ]
    }
   ],
   "source": [
    "for i in range(123, len(df2.index)):\n",
    "    df2['portfolioValue'][i] = df2['portfolioValue'][i-1]* (1+df2['portfolioRet'][i])"
   ]
  },
  {
   "cell_type": "code",
   "execution_count": null,
   "metadata": {
    "collapsed": true
   },
   "outputs": [],
   "source": []
  },
  {
   "cell_type": "code",
   "execution_count": 675,
   "metadata": {},
   "outputs": [
    {
     "data": {
      "text/plain": [
       "-0.32766516624774733"
      ]
     },
     "execution_count": 675,
     "metadata": {},
     "output_type": "execute_result"
    }
   ],
   "source": [
    "# maxdrawdown = (trough - peak)/peak, max loss could possibly earn if invested in this portfolio\n",
    "#cumulative portfolio return, maximum of cumulative portfolio return\n",
    "df2['maxPortfolioValue'] = df2['portfolioValue'].cummax() #max value of portfolio up to that date , peak\n",
    "df2['maxDrawdown'] = (df2['portfolioValue']) / (df2['maxPortfolioValue']) - 1 #maximum value potentially could have lost up to that date\n",
    "df2['maxDrawdown'].min() "
   ]
  },
  {
   "cell_type": "code",
   "execution_count": 676,
   "metadata": {},
   "outputs": [
    {
     "name": "stderr",
     "output_type": "stream",
     "text": [
      "C:\\ProgramData\\Anaconda2\\lib\\site-packages\\ipykernel_launcher.py:4: SettingWithCopyWarning: \n",
      "A value is trying to be set on a copy of a slice from a DataFrame\n",
      "\n",
      "See the caveats in the documentation: http://pandas.pydata.org/pandas-docs/stable/indexing.html#indexing-view-versus-copy\n",
      "  after removing the cwd from sys.path.\n",
      "C:\\ProgramData\\Anaconda2\\lib\\site-packages\\ipykernel_launcher.py:7: SettingWithCopyWarning: \n",
      "A value is trying to be set on a copy of a slice from a DataFrame\n",
      "\n",
      "See the caveats in the documentation: http://pandas.pydata.org/pandas-docs/stable/indexing.html#indexing-view-versus-copy\n",
      "  import sys\n",
      "C:\\ProgramData\\Anaconda2\\lib\\site-packages\\ipykernel_launcher.py:9: SettingWithCopyWarning: \n",
      "A value is trying to be set on a copy of a slice from a DataFrame\n",
      "\n",
      "See the caveats in the documentation: http://pandas.pydata.org/pandas-docs/stable/indexing.html#indexing-view-versus-copy\n",
      "  if __name__ == '__main__':\n"
     ]
    }
   ],
   "source": [
    "#Bonus questions, trading costs\n",
    "tradingCost = .005*2 #have to trade bond index and stock index\n",
    "df2['portRetTradingCost'] = None\n",
    "df2['equityWeight'][122] = .6 # to make loop work\n",
    "for i in range(123, len(df.index)):\n",
    "    if df2['equityWeight'][i-1] != df2['equityWeight'][i]:\n",
    "        df2['portRetTradingCost'][i] = df2['portfolioRet'][i] - tradingCost\n",
    "    else:\n",
    "        df2['portRetTradingCost'][i] = df2['portfolioRet'][i]\n"
   ]
  },
  {
   "cell_type": "code",
   "execution_count": 677,
   "metadata": {
    "collapsed": true
   },
   "outputs": [],
   "source": [
    "#check if strategy still returns alpha with previous code\n",
    "df2['alphaTC'] = df2['portRetTradingCost'] - df['benchmarkret']\n"
   ]
  },
  {
   "cell_type": "code",
   "execution_count": 678,
   "metadata": {},
   "outputs": [
    {
     "data": {
      "text/plain": [
       "-0.81597614162514764"
      ]
     },
     "execution_count": 678,
     "metadata": {},
     "output_type": "execute_result"
    }
   ],
   "source": [
    "#cumulative alpha with trading cost\n",
    "cumAlphaTC = (1 + df2['alphaTC']).prod() - 1\n",
    "cumAlphaTC"
   ]
  },
  {
   "cell_type": "code",
   "execution_count": 680,
   "metadata": {},
   "outputs": [
    {
     "data": {
      "text/plain": [
       "-0.096117686571582484"
      ]
     },
     "execution_count": 680,
     "metadata": {},
     "output_type": "execute_result"
    }
   ],
   "source": [
    "#annualized alpha with trading cost\n",
    "n = 201./12 #of periods \n",
    "annualAlphaTC = (1+ cumAlphaTC)**(1/n) - 1\n",
    "annualAlphaTC"
   ]
  },
  {
   "cell_type": "code",
   "execution_count": 612,
   "metadata": {},
   "outputs": [
    {
     "data": {
      "text/html": [
       "<div>\n",
       "<style>\n",
       "    .dataframe thead tr:only-child th {\n",
       "        text-align: right;\n",
       "    }\n",
       "\n",
       "    .dataframe thead th {\n",
       "        text-align: left;\n",
       "    }\n",
       "\n",
       "    .dataframe tbody tr th {\n",
       "        vertical-align: top;\n",
       "    }\n",
       "</style>\n",
       "<table border=\"1\" class=\"dataframe\">\n",
       "  <thead>\n",
       "    <tr style=\"text-align: right;\">\n",
       "      <th></th>\n",
       "      <th>Portfolio Performance</th>\n",
       "    </tr>\n",
       "  </thead>\n",
       "  <tbody>\n",
       "    <tr>\n",
       "      <th>Cum Alpha</th>\n",
       "      <td>0.057203</td>\n",
       "    </tr>\n",
       "    <tr>\n",
       "      <th>Ann Alpha</th>\n",
       "      <td>0.003327</td>\n",
       "    </tr>\n",
       "    <tr>\n",
       "      <th>Tracking Error</th>\n",
       "      <td>0.002329</td>\n",
       "    </tr>\n",
       "    <tr>\n",
       "      <th>Info Ratio</th>\n",
       "      <td>1.428474</td>\n",
       "    </tr>\n",
       "    <tr>\n",
       "      <th>Max Drawdown</th>\n",
       "      <td>-0.327665</td>\n",
       "    </tr>\n",
       "  </tbody>\n",
       "</table>\n",
       "</div>"
      ],
      "text/plain": [
       "                Portfolio Performance\n",
       "Cum Alpha                    0.057203\n",
       "Ann Alpha                    0.003327\n",
       "Tracking Error               0.002329\n",
       "Info Ratio                   1.428474\n",
       "Max Drawdown                -0.327665"
      ]
     },
     "execution_count": 612,
     "metadata": {},
     "output_type": "execute_result"
    }
   ],
   "source": [
    "#question 4\n",
    "\n",
    "summary2 = pd.DataFrame({'Portfolio Performance' : [cumAlpha,annualAlpha,trackingError,infoRatio,df2['maxDrawdown'].min()]})\n",
    "summary2.set_index([['Cum Alpha', 'Ann Alpha', 'Tracking Error', 'Info Ratio', 'Max Drawdown']])"
   ]
  },
  {
   "cell_type": "code",
   "execution_count": 633,
   "metadata": {
    "collapsed": true
   },
   "outputs": [],
   "source": [
    "writer = pd.ExcelWriter('Wellington.xlsx')\n",
    "df.to_excel(writer,'Sheet1')\n",
    "df2.to_excel(writer,'Sheet2')\n",
    "writer.save()"
   ]
  }
 ],
 "metadata": {
  "kernelspec": {
   "display_name": "Python 2",
   "language": "python",
   "name": "python2"
  },
  "language_info": {
   "codemirror_mode": {
    "name": "ipython",
    "version": 2
   },
   "file_extension": ".py",
   "mimetype": "text/x-python",
   "name": "python",
   "nbconvert_exporter": "python",
   "pygments_lexer": "ipython2",
   "version": "2.7.13"
  },
  "widgets": {
   "application/vnd.jupyter.widget-state+json": {
    "state": {},
    "version_major": 1,
    "version_minor": 0
   }
  }
 },
 "nbformat": 4,
 "nbformat_minor": 2
}
