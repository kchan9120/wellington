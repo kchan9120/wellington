{
 "cells": [
  {
   "cell_type": "code",
   "execution_count": 1,
   "metadata": {
    "collapsed": true
   },
   "outputs": [],
   "source": [
    "import pandas as pd\n",
    "import numpy as np\n",
    "import statsmodels.formula.api as smf"
   ]
  },
  {
   "cell_type": "code",
   "execution_count": 24,
   "metadata": {
    "collapsed": true
   },
   "outputs": [],
   "source": [
    "xlsx = pd.ExcelFile(\"DataSet.xlsx\")\n",
    "df = pd.read_excel(xlsx)\n",
    "\n"
   ]
  },
  {
   "cell_type": "code",
   "execution_count": 25,
   "metadata": {
    "collapsed": true
   },
   "outputs": [],
   "source": [
    "#Monthly return sp500\n",
    "df['sp500ret']= df['SP500Index'].pct_change()"
   ]
  },
  {
   "cell_type": "code",
   "execution_count": 26,
   "metadata": {
    "collapsed": true
   },
   "outputs": [],
   "source": [
    "#Monthly return of bond index\n",
    "df['bondret'] = df['BarclaysUSAggTreasury Index'].pct_change()\n"
   ]
  },
  {
   "cell_type": "code",
   "execution_count": 27,
   "metadata": {},
   "outputs": [
    {
     "data": {
      "text/plain": [
       "0         NaN\n",
       "1    0.008450\n",
       "2    0.015780\n",
       "3   -0.018664\n",
       "4    0.069750\n",
       "Name: benchmarkret, dtype: float64"
      ]
     },
     "execution_count": 27,
     "metadata": {},
     "output_type": "execute_result"
    }
   ],
   "source": [
    "#Benchmark Portfolio, shows first 5 monthly returns\n",
    "df['benchmarkret'] = .6*df['sp500ret'] + .4*df['bondret']\n",
    "df['benchmarkret'].head()\n"
   ]
  },
  {
   "cell_type": "code",
   "execution_count": 28,
   "metadata": {
    "collapsed": true
   },
   "outputs": [],
   "source": [
    "#adding 1 to returns for caluclation purposes\n",
    "df['1+sp500ret']= 1+ df['sp500ret']\n",
    "df['1+bondret']=1+ df['bondret']\n",
    "df['1+benchmarkret'] = 1 + df['benchmarkret']\n"
   ]
  },
  {
   "cell_type": "code",
   "execution_count": 29,
   "metadata": {
    "collapsed": true
   },
   "outputs": [],
   "source": [
    "#Total Compound Cumulative Returns \n",
    "#sp500CumRet = (df[\"SP500Index\"][len(df.index)-1] / df['SP500Index'][0]) -1\n",
    "#bondCumRet = (df['BarclaysUSAggTreasury Index'][len(df.index)-1] / df['BarclaysUSAggTreasury Index'][0])\n",
    "df['sp500CumRet']= df['1+sp500ret'].cumprod()-1\n",
    "df['bondCumRet'] = df['1+bondret'].cumprod()-1\n",
    "df['benchmarkCumRet'] = df['1+benchmarkret'].cumprod()-1\n",
    "\n"
   ]
  },
  {
   "cell_type": "code",
   "execution_count": 30,
   "metadata": {},
   "outputs": [
    {
     "name": "stdout",
     "output_type": "stream",
     "text": [
      "0.0931989940909 0.0492857949103 0.0797343968425\n"
     ]
    }
   ],
   "source": [
    "#Annualized Returns, \n",
    "sp500AnnRet = (df[\"sp500CumRet\"][len(df.index)-1])**(1/27.)-1\n",
    "bondAnnRet = (df[\"bondCumRet\"][len(df.index)-1])**(1/27.)-1\n",
    "benchmarkAnnRet = (df[\"benchmarkCumRet\"][len(df.index)-1])**(1/27.)-1\n",
    "print sp500AnnRet, bondAnnRet, benchmarkAnnRet"
   ]
  },
  {
   "cell_type": "code",
   "execution_count": 31,
   "metadata": {},
   "outputs": [
    {
     "name": "stdout",
     "output_type": "stream",
     "text": [
      "0.14367923596 0.044111172661 0.086196221143\n"
     ]
    }
   ],
   "source": [
    "#Annual Standard Deviation\n",
    "sp500SD = np.std(df['sp500ret'])*np.sqrt(12)\n",
    "bondSD = np.std(df['bondret'])*np.sqrt(12)\n",
    "benchmarkSD = np.std(df['benchmarkret'])*np.sqrt(12)\n",
    "print sp500SD, bondSD, benchmarkSD"
   ]
  },
  {
   "cell_type": "code",
   "execution_count": 32,
   "metadata": {},
   "outputs": [
    {
     "data": {
      "text/plain": [
       "0.007419355012572959"
      ]
     },
     "execution_count": 32,
     "metadata": {},
     "output_type": "execute_result"
    }
   ],
   "source": [
    "#annual return of risk free for sharpe ratio calculation\n",
    "cumRetRF = (df['3m Tbill Index'][len(df.index)-1] /df['3m Tbill Index'][0]) - 1\n",
    "rfAnnRet = cumRetRF**(1/27.) - 1\n",
    "rfAnnRet"
   ]
  },
  {
   "cell_type": "code",
   "execution_count": 33,
   "metadata": {
    "scrolled": true
   },
   "outputs": [
    {
     "name": "stdout",
     "output_type": "stream",
     "text": [
      "0.597021820899 0.949111922721 0.838958377421\n"
     ]
    }
   ],
   "source": [
    "#sharpe ratio\n",
    "sp500SharpeRatio = (sp500AnnRet - rfAnnRet)/ sp500SD\n",
    "bondSharpeRatio = (bondAnnRet - rfAnnRet)/ bondSD\n",
    "benchmarkSharpeRatio = (benchmarkAnnRet - rfAnnRet )/ benchmarkSD\n",
    "print sp500SharpeRatio, bondSharpeRatio, benchmarkSharpeRatio"
   ]
  },
  {
   "cell_type": "code",
   "execution_count": 34,
   "metadata": {},
   "outputs": [
    {
     "data": {
      "text/html": [
       "<div>\n",
       "<style>\n",
       "    .dataframe thead tr:only-child th {\n",
       "        text-align: right;\n",
       "    }\n",
       "\n",
       "    .dataframe thead th {\n",
       "        text-align: left;\n",
       "    }\n",
       "\n",
       "    .dataframe tbody tr th {\n",
       "        vertical-align: top;\n",
       "    }\n",
       "</style>\n",
       "<table border=\"1\" class=\"dataframe\">\n",
       "  <thead>\n",
       "    <tr style=\"text-align: right;\">\n",
       "      <th></th>\n",
       "      <th>Ann Return</th>\n",
       "      <th>Ann Standard Dev</th>\n",
       "      <th>Cum Return</th>\n",
       "      <th>Sharpe Ratio</th>\n",
       "    </tr>\n",
       "  </thead>\n",
       "  <tbody>\n",
       "    <tr>\n",
       "      <th>sp500</th>\n",
       "      <td>0.093199</td>\n",
       "      <td>0.143679</td>\n",
       "      <td>11.088659</td>\n",
       "      <td>0.597022</td>\n",
       "    </tr>\n",
       "    <tr>\n",
       "      <th>barclay</th>\n",
       "      <td>0.049286</td>\n",
       "      <td>0.044111</td>\n",
       "      <td>3.665493</td>\n",
       "      <td>0.949112</td>\n",
       "    </tr>\n",
       "    <tr>\n",
       "      <th>benchmark</th>\n",
       "      <td>0.079734</td>\n",
       "      <td>0.086196</td>\n",
       "      <td>7.935189</td>\n",
       "      <td>0.838958</td>\n",
       "    </tr>\n",
       "  </tbody>\n",
       "</table>\n",
       "</div>"
      ],
      "text/plain": [
       "           Ann Return  Ann Standard Dev  Cum Return  Sharpe Ratio\n",
       "sp500        0.093199          0.143679   11.088659      0.597022\n",
       "barclay      0.049286          0.044111    3.665493      0.949112\n",
       "benchmark    0.079734          0.086196    7.935189      0.838958"
      ]
     },
     "execution_count": 34,
     "metadata": {},
     "output_type": "execute_result"
    }
   ],
   "source": [
    "#summary chart for question 2\n",
    "sp500CumRet = df[\"sp500CumRet\"][len(df.index)-1]\n",
    "bondCumRet = df[\"bondCumRet\"][len(df.index)-1]\n",
    "benchmarkCumRet = df[\"benchmarkCumRet\"][len(df.index)-1]\n",
    "dictSummary = {'Cum Return' : pd.Series([sp500CumRet, bondCumRet, benchmarkCumRet]),\n",
    "               'Ann Return' : pd.Series([sp500AnnRet, bondAnnRet, benchmarkAnnRet]),\n",
    "               'Ann Standard Dev' : pd.Series([sp500SD, bondSD, benchmarkSD]),\n",
    "               'Sharpe Ratio' : pd.Series([sp500SharpeRatio, bondSharpeRatio, benchmarkSharpeRatio])}\n",
    "                    \n",
    "\n",
    "summary = pd.DataFrame(dictSummary)\n",
    "summary1 = summary.set_index([['sp500','barclay','benchmark']])\n",
    "summary1"
   ]
  },
  {
   "cell_type": "code",
   "execution_count": 35,
   "metadata": {
    "collapsed": true
   },
   "outputs": [],
   "source": [
    "#making new dataframe for questions 3+\n",
    "df2 = df.iloc[:,0:10]"
   ]
  },
  {
   "cell_type": "code",
   "execution_count": 36,
   "metadata": {
    "collapsed": true
   },
   "outputs": [],
   "source": [
    "#Finding returns of the factor\n",
    "for i in range(0,4):\n",
    "    df2['factor{}ret'.format(i+1)] = df2['Factor{}'.format(i+1)].pct_change()\n"
   ]
  },
  {
   "cell_type": "code",
   "execution_count": 37,
   "metadata": {
    "collapsed": true
   },
   "outputs": [],
   "source": [
    "#Lagging returns of the factors for prediction purposes, shift factor returns one month down.\n",
    "for i in range(0,4):\n",
    "    df2['laggedf{}ret'.format(i+1)] = df2['factor{}ret'.format(i+1)].shift(1)"
   ]
  },
  {
   "cell_type": "code",
   "execution_count": 38,
   "metadata": {},
   "outputs": [
    {
     "name": "stdout",
     "output_type": "stream",
     "text": [
      "                            OLS Regression Results                            \n",
      "==============================================================================\n",
      "Dep. Variable:               sp500ret   R-squared:                       0.093\n",
      "Model:                            OLS   Adj. R-squared:                  0.085\n",
      "Method:                 Least Squares   F-statistic:                     12.19\n",
      "Date:                Fri, 03 Nov 2017   Prob (F-statistic):           0.000675\n",
      "Time:                        10:53:38   Log-Likelihood:                 226.61\n",
      "No. Observations:                 121   AIC:                            -449.2\n",
      "Df Residuals:                     119   BIC:                            -443.6\n",
      "Df Model:                           1                                         \n",
      "Covariance Type:            nonrobust                                         \n",
      "===============================================================================\n",
      "                  coef    std err          t      P>|t|      [0.025      0.975]\n",
      "-------------------------------------------------------------------------------\n",
      "Intercept       0.0119      0.004      3.366      0.001       0.005       0.019\n",
      "laggedf3ret     0.3199      0.092      3.492      0.001       0.138       0.501\n",
      "==============================================================================\n",
      "Omnibus:                       11.735   Durbin-Watson:                   2.196\n",
      "Prob(Omnibus):                  0.003   Jarque-Bera (JB):               14.966\n",
      "Skew:                          -0.548   Prob(JB):                     0.000563\n",
      "Kurtosis:                       4.329   Cond. No.                         26.9\n",
      "==============================================================================\n",
      "\n",
      "Warnings:\n",
      "[1] Standard Errors assume that the covariance matrix of the errors is correctly specified.\n"
     ]
    }
   ],
   "source": [
    "#10 year data regression\n",
    "\n",
    "regress1 = smf.ols(formula='sp500ret ~ laggedf1ret', data=df2[2:123]).fit()\n",
    "regress2 = smf.ols(formula='sp500ret ~ laggedf2ret', data=df2[2:123]).fit()\n",
    "regress3 = smf.ols(formula='sp500ret ~ laggedf3ret', data=df2[2:123]).fit()\n",
    "regress4 = smf.ols(formula='sp500ret ~ laggedf4ret', data=df2[2:123]).fit()\n",
    "print regress3.summary()"
   ]
  },
  {
   "cell_type": "code",
   "execution_count": 39,
   "metadata": {
    "collapsed": true
   },
   "outputs": [],
   "source": [
    "#Calculating regression based off of last 3 years.(factor beta)\n",
    "for i in range(0,4):\n",
    "    df2['beta{}'.format(i+1)] = df2['sp500ret'].rolling(window=36).cov(other=df2['laggedf{}ret'.format(i+1)])/ df2['laggedf{}ret'.format(i+1)].rolling(window=36,center=False).var()\n",
    "  \n"
   ]
  },
  {
   "cell_type": "code",
   "execution_count": 43,
   "metadata": {
    "collapsed": true
   },
   "outputs": [],
   "source": [
    "#Shifting betas down 1 cell to get rid of last month's look ahead bias\n",
    "for i in range(0,4):\n",
    "    df2['shiftbeta{}'.format(i+1)] = df2['beta{}'.format(i+1)].shift(1)"
   ]
  },
  {
   "cell_type": "code",
   "execution_count": 44,
   "metadata": {
    "collapsed": true
   },
   "outputs": [],
   "source": []
  },
  {
   "cell_type": "code",
   "execution_count": 45,
   "metadata": {
    "collapsed": true
   },
   "outputs": [],
   "source": [
    "#average of sp500 returns from past 3 years, shifted down 1\n",
    "df2['sp500RollingMean'] = df2['sp500ret'].shift(1).rolling(window=36).mean()"
   ]
  },
  {
   "cell_type": "code",
   "execution_count": 46,
   "metadata": {
    "collapsed": true
   },
   "outputs": [],
   "source": [
    "#average of lagged return from past 3 years, shifted down 1 \n",
    "for i in range(0,4):\n",
    "    df2['laggedf{}RollingMean'.format(i+1)] = df2['laggedf{}ret'.format(i+1)].shift(1).rolling(window=36).mean()\n"
   ]
  },
  {
   "cell_type": "code",
   "execution_count": 48,
   "metadata": {
    "collapsed": true
   },
   "outputs": [],
   "source": []
  },
  {
   "cell_type": "code",
   "execution_count": 49,
   "metadata": {
    "collapsed": true
   },
   "outputs": [],
   "source": [
    "# finding intercept of linear regression\n",
    "for i in range(0,4):\n",
    "    df2['f{}intercept'.format(i+1)] = df2['sp500RollingMean'] - df2['shiftbeta{}'.format(i+1)]*df2['laggedf{}RollingMean'.format(i+1)]"
   ]
  },
  {
   "cell_type": "code",
   "execution_count": 50,
   "metadata": {
    "collapsed": true
   },
   "outputs": [],
   "source": [
    "writer = pd.ExcelWriter('Wellington2.xlsx')\n",
    "df.to_excel(writer,'Sheet1')\n",
    "df2.to_excel(writer,'Sheet2')\n",
    "writer.save()\n",
    "\n",
    "#Changing values to none because used 10 years worth of regression data to state factor 3 was good.\n",
    "#df2.iloc[:123,18:31] = None "
   ]
  },
  {
   "cell_type": "code",
   "execution_count": 51,
   "metadata": {
    "collapsed": true
   },
   "outputs": [],
   "source": [
    "#Predicted Return( y=mx+b) \n",
    "for i in range(0,4):\n",
    "    df2['f{}PredictRet'.format(i+1)] = df2['f{}intercept'.format(i+1)] + df2['shiftbeta{}'.format(i+1)]*df2['laggedf{}ret'.format(i+1)]"
   ]
  },
  {
   "cell_type": "code",
   "execution_count": 52,
   "metadata": {
    "collapsed": true
   },
   "outputs": [],
   "source": [
    "#error squared, difference between predicted return and actual return\n",
    "for i in range(0,4):\n",
    "    df2['f{}errorSquare'.format(i+1)] = (df2['f{}PredictRet'.format(i+1)]- df2['sp500ret'])**2"
   ]
  },
  {
   "cell_type": "code",
   "execution_count": 61,
   "metadata": {},
   "outputs": [
    {
     "data": {
      "text/html": [
       "<div>\n",
       "<style>\n",
       "    .dataframe thead tr:only-child th {\n",
       "        text-align: right;\n",
       "    }\n",
       "\n",
       "    .dataframe thead th {\n",
       "        text-align: left;\n",
       "    }\n",
       "\n",
       "    .dataframe tbody tr th {\n",
       "        vertical-align: top;\n",
       "    }\n",
       "</style>\n",
       "<table border=\"1\" class=\"dataframe\">\n",
       "  <thead>\n",
       "    <tr style=\"text-align: right;\">\n",
       "      <th></th>\n",
       "      <th>Date</th>\n",
       "      <th>SP500Index</th>\n",
       "      <th>BarclaysUSAggTreasury Index</th>\n",
       "      <th>3m Tbill Index</th>\n",
       "      <th>Factor1</th>\n",
       "      <th>Factor2</th>\n",
       "      <th>Factor3</th>\n",
       "      <th>Factor4</th>\n",
       "      <th>sp500ret</th>\n",
       "      <th>bondret</th>\n",
       "      <th>benchmarkret</th>\n",
       "      <th>1+sp500ret</th>\n",
       "      <th>1+bondret</th>\n",
       "      <th>1+benchmarkret</th>\n",
       "      <th>sp500CumRet</th>\n",
       "      <th>bondCumRet</th>\n",
       "      <th>benchmarkCumRet</th>\n",
       "    </tr>\n",
       "  </thead>\n",
       "  <tbody>\n",
       "    <tr>\n",
       "      <th>120</th>\n",
       "      <td>2000-01-31</td>\n",
       "      <td>1919.84</td>\n",
       "      <td>960.87</td>\n",
       "      <td>513.749</td>\n",
       "      <td>24.95</td>\n",
       "      <td>169.3</td>\n",
       "      <td>363.66</td>\n",
       "      <td>56.7</td>\n",
       "      <td>-0.050242</td>\n",
       "      <td>0.002609</td>\n",
       "      <td>-0.029102</td>\n",
       "      <td>0.949758</td>\n",
       "      <td>1.002609</td>\n",
       "      <td>0.970898</td>\n",
       "      <td>4.424196</td>\n",
       "      <td>1.085900</td>\n",
       "      <td>2.775351</td>\n",
       "    </tr>\n",
       "    <tr>\n",
       "      <th>121</th>\n",
       "      <td>2000-02-29</td>\n",
       "      <td>1883.50</td>\n",
       "      <td>975.32</td>\n",
       "      <td>516.001</td>\n",
       "      <td>23.37</td>\n",
       "      <td>170.0</td>\n",
       "      <td>370.81</td>\n",
       "      <td>55.8</td>\n",
       "      <td>-0.018929</td>\n",
       "      <td>0.015038</td>\n",
       "      <td>-0.005342</td>\n",
       "      <td>0.981071</td>\n",
       "      <td>1.015038</td>\n",
       "      <td>0.994658</td>\n",
       "      <td>4.321523</td>\n",
       "      <td>1.117269</td>\n",
       "      <td>2.755184</td>\n",
       "    </tr>\n",
       "    <tr>\n",
       "      <th>122</th>\n",
       "      <td>2000-03-31</td>\n",
       "      <td>2067.76</td>\n",
       "      <td>994.69</td>\n",
       "      <td>518.689</td>\n",
       "      <td>24.11</td>\n",
       "      <td>171.0</td>\n",
       "      <td>359.35</td>\n",
       "      <td>54.9</td>\n",
       "      <td>0.097829</td>\n",
       "      <td>0.019860</td>\n",
       "      <td>0.066641</td>\n",
       "      <td>1.097829</td>\n",
       "      <td>1.019860</td>\n",
       "      <td>1.066641</td>\n",
       "      <td>4.842120</td>\n",
       "      <td>1.159318</td>\n",
       "      <td>3.005434</td>\n",
       "    </tr>\n",
       "    <tr>\n",
       "      <th>123</th>\n",
       "      <td>2000-04-28</td>\n",
       "      <td>2005.55</td>\n",
       "      <td>991.54</td>\n",
       "      <td>520.951</td>\n",
       "      <td>26.20</td>\n",
       "      <td>170.9</td>\n",
       "      <td>370.76</td>\n",
       "      <td>54.7</td>\n",
       "      <td>-0.030086</td>\n",
       "      <td>-0.003167</td>\n",
       "      <td>-0.019318</td>\n",
       "      <td>0.969914</td>\n",
       "      <td>0.996833</td>\n",
       "      <td>0.980682</td>\n",
       "      <td>4.666356</td>\n",
       "      <td>1.152480</td>\n",
       "      <td>2.928056</td>\n",
       "    </tr>\n",
       "  </tbody>\n",
       "</table>\n",
       "</div>"
      ],
      "text/plain": [
       "          Date  SP500Index  BarclaysUSAggTreasury Index  3m Tbill Index  \\\n",
       "120 2000-01-31     1919.84                       960.87         513.749   \n",
       "121 2000-02-29     1883.50                       975.32         516.001   \n",
       "122 2000-03-31     2067.76                       994.69         518.689   \n",
       "123 2000-04-28     2005.55                       991.54         520.951   \n",
       "\n",
       "     Factor1  Factor2  Factor3  Factor4  sp500ret   bondret  benchmarkret  \\\n",
       "120    24.95    169.3   363.66     56.7 -0.050242  0.002609     -0.029102   \n",
       "121    23.37    170.0   370.81     55.8 -0.018929  0.015038     -0.005342   \n",
       "122    24.11    171.0   359.35     54.9  0.097829  0.019860      0.066641   \n",
       "123    26.20    170.9   370.76     54.7 -0.030086 -0.003167     -0.019318   \n",
       "\n",
       "     1+sp500ret  1+bondret  1+benchmarkret  sp500CumRet  bondCumRet  \\\n",
       "120    0.949758   1.002609        0.970898     4.424196    1.085900   \n",
       "121    0.981071   1.015038        0.994658     4.321523    1.117269   \n",
       "122    1.097829   1.019860        1.066641     4.842120    1.159318   \n",
       "123    0.969914   0.996833        0.980682     4.666356    1.152480   \n",
       "\n",
       "     benchmarkCumRet  \n",
       "120         2.775351  \n",
       "121         2.755184  \n",
       "122         3.005434  \n",
       "123         2.928056  "
      ]
     },
     "execution_count": 61,
     "metadata": {},
     "output_type": "execute_result"
    }
   ],
   "source": []
  },
  {
   "cell_type": "code",
   "execution_count": 82,
   "metadata": {},
   "outputs": [
    {
     "name": "stdout",
     "output_type": "stream",
     "text": [
      "0.00172503773421 0.00156975621483 0.00135656532466 0.00154052369897\n"
     ]
    }
   ],
   "source": [
    "#Mean Squared Error, lowest MSE is factor chosen. (MSE from first date we have beta to the start date of strategy)\n",
    "# using n-k-1 for denominator of MSE\n",
    "#Strategy starts on 5/31/2000.(index=124)\n",
    "\n",
    "print df2['f1errorSquare'][:124].mean(), df2['f2errorSquare'][:124].mean(), df2['f3errorSquare'][:124].mean(), df2['f4errorSquare'][:124].mean()\n",
    "\n",
    "#Factor 3 is best."
   ]
  },
  {
   "cell_type": "code",
   "execution_count": 83,
   "metadata": {
    "collapsed": true
   },
   "outputs": [],
   "source": [
    "writer = pd.ExcelWriter('Wellington2.xlsx')\n",
    "df.to_excel(writer,'Sheet1')\n",
    "df2.to_excel(writer,'Sheet2')\n",
    "writer.save()"
   ]
  },
  {
   "cell_type": "code",
   "execution_count": 84,
   "metadata": {},
   "outputs": [
    {
     "name": "stderr",
     "output_type": "stream",
     "text": [
      "C:\\ProgramData\\Anaconda2\\lib\\site-packages\\ipykernel_launcher.py:13: SettingWithCopyWarning: \n",
      "A value is trying to be set on a copy of a slice from a DataFrame\n",
      "\n",
      "See the caveats in the documentation: http://pandas.pydata.org/pandas-docs/stable/indexing.html#indexing-view-versus-copy\n",
      "  del sys.path[0]\n",
      "C:\\ProgramData\\Anaconda2\\lib\\site-packages\\ipykernel_launcher.py:18: SettingWithCopyWarning: \n",
      "A value is trying to be set on a copy of a slice from a DataFrame\n",
      "\n",
      "See the caveats in the documentation: http://pandas.pydata.org/pandas-docs/stable/indexing.html#indexing-view-versus-copy\n",
      "C:\\ProgramData\\Anaconda2\\lib\\site-packages\\ipykernel_launcher.py:11: SettingWithCopyWarning: \n",
      "A value is trying to be set on a copy of a slice from a DataFrame\n",
      "\n",
      "See the caveats in the documentation: http://pandas.pydata.org/pandas-docs/stable/indexing.html#indexing-view-versus-copy\n",
      "  # This is added back by InteractiveShellApp.init_path()\n"
     ]
    }
   ],
   "source": [
    "#Rebalance formula\n",
    "\n",
    "df2['equityWeight']=.6\n",
    "\n",
    "\n",
    "for i in range(124,len(df.index)):\n",
    "    rebalanceFormula = 1.5 - (1/(1+np.exp(df2['f3PredictRet'][i])))\n",
    "\n",
    "    if df2['f3PredictRet'][i] >= 0:\n",
    "        if df2['equityWeight'][i-1]* rebalanceFormula >= .7:\n",
    "            df2['equityWeight'][i] = .7\n",
    "        else:\n",
    "            df2['equityWeight'][i] = df2['equityWeight'][i-1]* rebalanceFormula\n",
    "    else:\n",
    "        if df2['equityWeight'][i-1]* rebalanceFormula <= .5:\n",
    "            df2['equityWeight'][i] = .5\n",
    "        else:\n",
    "            df2['equityWeight'][i] = df2['equityWeight'][i-1]*rebalanceFormula\n"
   ]
  },
  {
   "cell_type": "code",
   "execution_count": 85,
   "metadata": {
    "collapsed": true
   },
   "outputs": [],
   "source": [
    "#calculating bondweight of portfolio\n",
    "df2['bondWeight'] = 1 - df2['equityWeight']\n"
   ]
  },
  {
   "cell_type": "code",
   "execution_count": null,
   "metadata": {
    "collapsed": true
   },
   "outputs": [],
   "source": []
  },
  {
   "cell_type": "code",
   "execution_count": 86,
   "metadata": {},
   "outputs": [
    {
     "name": "stderr",
     "output_type": "stream",
     "text": [
      "C:\\ProgramData\\Anaconda2\\lib\\site-packages\\ipykernel_launcher.py:2: SettingWithCopyWarning: \n",
      "A value is trying to be set on a copy of a slice from a DataFrame\n",
      "\n",
      "See the caveats in the documentation: http://pandas.pydata.org/pandas-docs/stable/indexing.html#indexing-view-versus-copy\n",
      "  \n",
      "C:\\ProgramData\\Anaconda2\\lib\\site-packages\\ipykernel_launcher.py:3: SettingWithCopyWarning: \n",
      "A value is trying to be set on a copy of a slice from a DataFrame\n",
      "\n",
      "See the caveats in the documentation: http://pandas.pydata.org/pandas-docs/stable/indexing.html#indexing-view-versus-copy\n",
      "  This is separate from the ipykernel package so we can avoid doing imports until\n"
     ]
    }
   ],
   "source": [
    "#Setting first couple of rows of equity/bond weights as None,  trading strategy didn't start yet(Strategy starts 5/31/2000)\n",
    "df2['equityWeight'][:124] = None\n",
    "df2['bondWeight'][:124] = None\n"
   ]
  },
  {
   "cell_type": "code",
   "execution_count": 87,
   "metadata": {
    "collapsed": true
   },
   "outputs": [],
   "source": [
    "# portfolio return\n",
    "df2['portfolioRet'] = df2['bondWeight']*df2['bondret'] + df2['equityWeight']*df2['sp500ret']"
   ]
  },
  {
   "cell_type": "code",
   "execution_count": 88,
   "metadata": {
    "collapsed": true
   },
   "outputs": [],
   "source": [
    "#alpha\n",
    "df2['alpha'] = df2['portfolioRet'] - df['benchmarkret']\n"
   ]
  },
  {
   "cell_type": "code",
   "execution_count": null,
   "metadata": {
    "collapsed": true
   },
   "outputs": [],
   "source": []
  },
  {
   "cell_type": "code",
   "execution_count": 103,
   "metadata": {},
   "outputs": [
    {
     "data": {
      "text/plain": [
       "0.055231359474959385"
      ]
     },
     "execution_count": 103,
     "metadata": {},
     "output_type": "execute_result"
    }
   ],
   "source": [
    "#cumulative alpha\n",
    "cumAlpha = (1 + df2['alpha']).prod() - 1\n",
    "cumAlpha"
   ]
  },
  {
   "cell_type": "code",
   "execution_count": 90,
   "metadata": {},
   "outputs": [
    {
     "data": {
      "text/plain": [
       "0.0032147108200126784"
      ]
     },
     "execution_count": 90,
     "metadata": {},
     "output_type": "execute_result"
    }
   ],
   "source": [
    "#annualized alpha\n",
    "n = 201./12 # #of periods\n",
    "annualAlpha = (1+ cumAlpha)**(1/n) - 1\n",
    "annualAlpha\n"
   ]
  },
  {
   "cell_type": "code",
   "execution_count": 91,
   "metadata": {},
   "outputs": [
    {
     "data": {
      "text/plain": [
       "0.0023920753984750247"
      ]
     },
     "execution_count": 91,
     "metadata": {},
     "output_type": "execute_result"
    }
   ],
   "source": [
    "#tracking error\n",
    "#df2['alpha'].std()#, also tracking error \n",
    "numMonths = 201\n",
    "trackingError = ((df2['alpha']**2).sum()/numMonths)**(1/2.)\n",
    "trackingError\n",
    "            "
   ]
  },
  {
   "cell_type": "code",
   "execution_count": 92,
   "metadata": {},
   "outputs": [
    {
     "data": {
      "text/plain": [
       "1.343900289289415"
      ]
     },
     "execution_count": 92,
     "metadata": {},
     "output_type": "execute_result"
    }
   ],
   "source": [
    "#Information Ratio\n",
    "infoRatio = annualAlpha/ trackingError\n",
    "infoRatio"
   ]
  },
  {
   "cell_type": "code",
   "execution_count": 93,
   "metadata": {
    "collapsed": true
   },
   "outputs": [],
   "source": [
    "#random initial portfolio value\n",
    "df2['portfolioValue'] = 1000000"
   ]
  },
  {
   "cell_type": "code",
   "execution_count": 94,
   "metadata": {},
   "outputs": [
    {
     "name": "stderr",
     "output_type": "stream",
     "text": [
      "C:\\ProgramData\\Anaconda2\\lib\\site-packages\\ipykernel_launcher.py:2: SettingWithCopyWarning: \n",
      "A value is trying to be set on a copy of a slice from a DataFrame\n",
      "\n",
      "See the caveats in the documentation: http://pandas.pydata.org/pandas-docs/stable/indexing.html#indexing-view-versus-copy\n",
      "  \n"
     ]
    }
   ],
   "source": [
    "for i in range(124, len(df2.index)):\n",
    "    df2['portfolioValue'][i] = df2['portfolioValue'][i-1]* (1+df2['portfolioRet'][i])"
   ]
  },
  {
   "cell_type": "code",
   "execution_count": null,
   "metadata": {
    "collapsed": true
   },
   "outputs": [],
   "source": []
  },
  {
   "cell_type": "code",
   "execution_count": 95,
   "metadata": {},
   "outputs": [
    {
     "data": {
      "text/plain": [
       "-0.32880045067146413"
      ]
     },
     "execution_count": 95,
     "metadata": {},
     "output_type": "execute_result"
    }
   ],
   "source": [
    "# maxdrawdown = (trough - peak)/peak, max loss could possibly earn if invested in this portfolio\n",
    "#cumulative portfolio return, maximum of cumulative portfolio return\n",
    "df2['maxPortfolioValue'] = df2['portfolioValue'].cummax() #max value of portfolio up to that date , peak\n",
    "df2['maxDrawdown'] = (df2['portfolioValue']) / (df2['maxPortfolioValue']) - 1 #maximum value potentially could have lost up to that date\n",
    "df2['maxDrawdown'].min() "
   ]
  },
  {
   "cell_type": "code",
   "execution_count": 96,
   "metadata": {},
   "outputs": [
    {
     "name": "stderr",
     "output_type": "stream",
     "text": [
      "C:\\ProgramData\\Anaconda2\\lib\\site-packages\\ipykernel_launcher.py:4: SettingWithCopyWarning: \n",
      "A value is trying to be set on a copy of a slice from a DataFrame\n",
      "\n",
      "See the caveats in the documentation: http://pandas.pydata.org/pandas-docs/stable/indexing.html#indexing-view-versus-copy\n",
      "  after removing the cwd from sys.path.\n",
      "C:\\ProgramData\\Anaconda2\\lib\\site-packages\\ipykernel_launcher.py:7: SettingWithCopyWarning: \n",
      "A value is trying to be set on a copy of a slice from a DataFrame\n",
      "\n",
      "See the caveats in the documentation: http://pandas.pydata.org/pandas-docs/stable/indexing.html#indexing-view-versus-copy\n",
      "  import sys\n",
      "C:\\ProgramData\\Anaconda2\\lib\\site-packages\\ipykernel_launcher.py:9: SettingWithCopyWarning: \n",
      "A value is trying to be set on a copy of a slice from a DataFrame\n",
      "\n",
      "See the caveats in the documentation: http://pandas.pydata.org/pandas-docs/stable/indexing.html#indexing-view-versus-copy\n",
      "  if __name__ == '__main__':\n"
     ]
    }
   ],
   "source": [
    "#Bonus questions, trading costs\n",
    "tradingCost = .005*2 #have to trade bond index and stock index\n",
    "df2['portRetTradingCost'] = None\n",
    "df2['equityWeight'][122] = .6 # to make loop work\n",
    "for i in range(123, len(df.index)):\n",
    "    if df2['equityWeight'][i-1] != df2['equityWeight'][i]:\n",
    "        df2['portRetTradingCost'][i] = df2['portfolioRet'][i] - tradingCost\n",
    "    else:\n",
    "        df2['portRetTradingCost'][i] = df2['portfolioRet'][i]\n"
   ]
  },
  {
   "cell_type": "code",
   "execution_count": 97,
   "metadata": {
    "collapsed": true
   },
   "outputs": [],
   "source": [
    "#check if strategy still returns alpha with previous code\n",
    "df2['alphaTC'] = df2['portRetTradingCost'] - df['benchmarkret']\n"
   ]
  },
  {
   "cell_type": "code",
   "execution_count": 98,
   "metadata": {},
   "outputs": [
    {
     "data": {
      "text/plain": [
       "-0.81447916197686032"
      ]
     },
     "execution_count": 98,
     "metadata": {},
     "output_type": "execute_result"
    }
   ],
   "source": [
    "#cumulative alpha with trading cost\n",
    "cumAlphaTC = (1 + df2['alphaTC']).prod() - 1\n",
    "cumAlphaTC"
   ]
  },
  {
   "cell_type": "code",
   "execution_count": 99,
   "metadata": {},
   "outputs": [
    {
     "data": {
      "text/plain": [
       "-0.095680382615073278"
      ]
     },
     "execution_count": 99,
     "metadata": {},
     "output_type": "execute_result"
    }
   ],
   "source": [
    "#annualized alpha with trading cost\n",
    "n = 201./12 #of periods \n",
    "annualAlphaTC = (1+ cumAlphaTC)**(1/n) - 1\n",
    "annualAlphaTC"
   ]
  },
  {
   "cell_type": "code",
   "execution_count": 100,
   "metadata": {},
   "outputs": [
    {
     "data": {
      "text/html": [
       "<div>\n",
       "<style>\n",
       "    .dataframe thead tr:only-child th {\n",
       "        text-align: right;\n",
       "    }\n",
       "\n",
       "    .dataframe thead th {\n",
       "        text-align: left;\n",
       "    }\n",
       "\n",
       "    .dataframe tbody tr th {\n",
       "        vertical-align: top;\n",
       "    }\n",
       "</style>\n",
       "<table border=\"1\" class=\"dataframe\">\n",
       "  <thead>\n",
       "    <tr style=\"text-align: right;\">\n",
       "      <th></th>\n",
       "      <th>Portfolio Performance</th>\n",
       "    </tr>\n",
       "  </thead>\n",
       "  <tbody>\n",
       "    <tr>\n",
       "      <th>Cum Alpha</th>\n",
       "      <td>0.055231</td>\n",
       "    </tr>\n",
       "    <tr>\n",
       "      <th>Ann Alpha</th>\n",
       "      <td>0.003215</td>\n",
       "    </tr>\n",
       "    <tr>\n",
       "      <th>Tracking Error</th>\n",
       "      <td>0.002392</td>\n",
       "    </tr>\n",
       "    <tr>\n",
       "      <th>Info Ratio</th>\n",
       "      <td>1.343900</td>\n",
       "    </tr>\n",
       "    <tr>\n",
       "      <th>Max Drawdown</th>\n",
       "      <td>-0.328800</td>\n",
       "    </tr>\n",
       "  </tbody>\n",
       "</table>\n",
       "</div>"
      ],
      "text/plain": [
       "                Portfolio Performance\n",
       "Cum Alpha                    0.055231\n",
       "Ann Alpha                    0.003215\n",
       "Tracking Error               0.002392\n",
       "Info Ratio                   1.343900\n",
       "Max Drawdown                -0.328800"
      ]
     },
     "execution_count": 100,
     "metadata": {},
     "output_type": "execute_result"
    }
   ],
   "source": [
    "#question 4\n",
    "\n",
    "summary2 = pd.DataFrame({'Portfolio Performance' : [cumAlpha,annualAlpha,trackingError,infoRatio,df2['maxDrawdown'].min()]})\n",
    "summary2.set_index([['Cum Alpha', 'Ann Alpha', 'Tracking Error', 'Info Ratio', 'Max Drawdown']])"
   ]
  },
  {
   "cell_type": "code",
   "execution_count": 101,
   "metadata": {
    "collapsed": true
   },
   "outputs": [],
   "source": [
    "writer = pd.ExcelWriter('Wellington2.xlsx')\n",
    "df.to_excel(writer,'Sheet1')\n",
    "df2.to_excel(writer,'Sheet2')\n",
    "writer.save()"
   ]
  },
  {
   "cell_type": "code",
   "execution_count": null,
   "metadata": {
    "collapsed": true
   },
   "outputs": [],
   "source": []
  }
 ],
 "metadata": {
  "kernelspec": {
   "display_name": "Python 2",
   "language": "python",
   "name": "python2"
  },
  "language_info": {
   "codemirror_mode": {
    "name": "ipython",
    "version": 2
   },
   "file_extension": ".py",
   "mimetype": "text/x-python",
   "name": "python",
   "nbconvert_exporter": "python",
   "pygments_lexer": "ipython2",
   "version": "2.7.13"
  },
  "widgets": {
   "application/vnd.jupyter.widget-state+json": {
    "state": {},
    "version_major": 1,
    "version_minor": 0
   }
  }
 },
 "nbformat": 4,
 "nbformat_minor": 2
}
